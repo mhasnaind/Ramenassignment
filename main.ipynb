{
 "cells": [
  {
   "cell_type": "code",
   "execution_count": null,
   "id": "f20824bf",
   "metadata": {},
   "outputs": [],
   "source": [
    "# **PyBank\n",
    "\n",
    "# In this activity, you are tasked with creating a Python script for analyzing the financial records of your company. You will be provided with a financial dataset in this file: budget_data.csv. This dataset is composed of two columns, Date and Profit/Losses. (Thankfully, your company has rather lax standards for accounting, so the records are simple.)\n",
    "Your task is to create a Python script that analyzes the records to calculate each of the following:\n",
    "\n",
    "\n",
    "The total number of months included in the dataset.\n",
    "\n",
    "\n",
    "The net total amount of Profit/Losses over the entire period.\n",
    "\n",
    "\n",
    "The average of the changes in Profit/Losses over the entire period.\n",
    "\n",
    "\n",
    "The greatest increase in profits (date and amount) over the entire period.\n",
    "\n",
    "\n",
    "The greatest decrease in losses (date and amount) over the entire period.#"
   ]
  },
  {
   "cell_type": "code",
   "execution_count": 15,
   "id": "43580809",
   "metadata": {},
   "outputs": [],
   "source": []
  },
  {
   "cell_type": "code",
   "execution_count": 11,
   "id": "83f3a75f",
   "metadata": {},
   "outputs": [],
   "source": [
    "from pathlib import Path\n",
    "import csv\n",
    "\n",
    "csvpath = Path(\"./Ramen assignment/week_2_homework_PyBank_Resources_budget_data.csv\")"
   ]
  },
  {
   "cell_type": "code",
   "execution_count": 27,
   "id": "6b297b10",
   "metadata": {},
   "outputs": [],
   "source": [
    "import pandas as pd\n",
    "\n",
    "df = pd.read_csv(csvpath)\n"
   ]
  },
  {
   "cell_type": "code",
   "execution_count": 51,
   "id": "d414fc5f",
   "metadata": {},
   "outputs": [],
   "source": [
    "month_count = 0\n",
    "total = 0\n",
    "average_profit = 0\n",
    "minimum_profit = 0\n",
    "maximum_profit = 0\n"
   ]
  },
  {
   "cell_type": "code",
   "execution_count": 35,
   "id": "2e7b905b",
   "metadata": {},
   "outputs": [
    {
     "data": {
      "text/plain": [
       "0     867884\n",
       "1     984655\n",
       "2     322013\n",
       "3     -69417\n",
       "4     310503\n",
       "       ...  \n",
       "81    102685\n",
       "82    795914\n",
       "83     60988\n",
       "84    138230\n",
       "85    671099\n",
       "Name: Profit/Losses, Length: 86, dtype: int64"
      ]
     },
     "execution_count": 35,
     "metadata": {},
     "output_type": "execute_result"
    }
   ],
   "source": [
    "df[\"Profit/Losses\"]\n"
   ]
  },
  {
   "cell_type": "code",
   "execution_count": 57,
   "id": "16822515",
   "metadata": {},
   "outputs": [
    {
     "data": {
      "text/plain": [
       "Jun-2016    1\n",
       "Sep-2014    1\n",
       "Oct-2010    1\n",
       "Oct-2014    1\n",
       "Jul-2015    1\n",
       "           ..\n",
       "Aug-2012    1\n",
       "Sep-2013    1\n",
       "Feb-2016    1\n",
       "Dec-2013    1\n",
       "Jul-2016    1\n",
       "Name: Date, Length: 86, dtype: int64"
      ]
     },
     "execution_count": 57,
     "metadata": {},
     "output_type": "execute_result"
    }
   ],
   "source": [
    "# The total number of months included in the dataset.\n",
    "\n",
    "df[\"Date\"].value_counts()"
   ]
  },
  {
   "cell_type": "code",
   "execution_count": null,
   "id": "847c2481",
   "metadata": {},
   "outputs": [],
   "source": []
  },
  {
   "cell_type": "code",
   "execution_count": 41,
   "id": "0b3e4fe9",
   "metadata": {},
   "outputs": [
    {
     "data": {
      "text/plain": [
       "38382578"
      ]
     },
     "execution_count": 41,
     "metadata": {},
     "output_type": "execute_result"
    }
   ],
   "source": [
    "#The net total amount of Profit/Losses over the entire period.\n",
    "\n",
    "df[\"Profit/Losses\"].sum()"
   ]
  },
  {
   "cell_type": "code",
   "execution_count": 48,
   "id": "ff5b1825",
   "metadata": {},
   "outputs": [
    {
     "data": {
      "text/plain": [
       "0          NaN\n",
       "1     116771.0\n",
       "2    -662642.0\n",
       "3    -391430.0\n",
       "4     379920.0\n",
       "        ...   \n",
       "81   -665765.0\n",
       "82    693229.0\n",
       "83   -734926.0\n",
       "84     77242.0\n",
       "85    532869.0\n",
       "Name: Profit/Losses, Length: 86, dtype: float64"
      ]
     },
     "execution_count": 48,
     "metadata": {},
     "output_type": "execute_result"
    }
   ],
   "source": [
    "# The average of the changes in Profit/Losses over the entire period.\n",
    "\n",
    "df[\"Profit/Losses\"].diff(1)"
   ]
  },
  {
   "cell_type": "code",
   "execution_count": 50,
   "id": "f891b160",
   "metadata": {},
   "outputs": [
    {
     "data": {
      "text/plain": [
       "-2315.1176470588234"
      ]
     },
     "execution_count": 50,
     "metadata": {},
     "output_type": "execute_result"
    }
   ],
   "source": [
    "df[\"Profit/Losses\"].diff(1).mean()"
   ]
  },
  {
   "cell_type": "code",
   "execution_count": 46,
   "id": "0250660c",
   "metadata": {},
   "outputs": [
    {
     "data": {
      "text/html": [
       "<div>\n",
       "<style scoped>\n",
       "    .dataframe tbody tr th:only-of-type {\n",
       "        vertical-align: middle;\n",
       "    }\n",
       "\n",
       "    .dataframe tbody tr th {\n",
       "        vertical-align: top;\n",
       "    }\n",
       "\n",
       "    .dataframe thead th {\n",
       "        text-align: right;\n",
       "    }\n",
       "</style>\n",
       "<table border=\"1\" class=\"dataframe\">\n",
       "  <thead>\n",
       "    <tr style=\"text-align: right;\">\n",
       "      <th></th>\n",
       "      <th>Date</th>\n",
       "      <th>Profit/Losses</th>\n",
       "    </tr>\n",
       "  </thead>\n",
       "  <tbody>\n",
       "    <tr>\n",
       "      <th>25</th>\n",
       "      <td>Feb-2012</td>\n",
       "      <td>1170593</td>\n",
       "    </tr>\n",
       "  </tbody>\n",
       "</table>\n",
       "</div>"
      ],
      "text/plain": [
       "        Date  Profit/Losses\n",
       "25  Feb-2012        1170593"
      ]
     },
     "execution_count": 46,
     "metadata": {},
     "output_type": "execute_result"
    }
   ],
   "source": [
    "# The greatest increase in profits (date and amount) over the entire period.\n",
    "\n",
    "df.loc[df['Profit/Losses']==df['Profit/Losses'].max()]\n"
   ]
  },
  {
   "cell_type": "code",
   "execution_count": 47,
   "id": "201617e0",
   "metadata": {},
   "outputs": [
    {
     "data": {
      "text/html": [
       "<div>\n",
       "<style scoped>\n",
       "    .dataframe tbody tr th:only-of-type {\n",
       "        vertical-align: middle;\n",
       "    }\n",
       "\n",
       "    .dataframe tbody tr th {\n",
       "        vertical-align: top;\n",
       "    }\n",
       "\n",
       "    .dataframe thead th {\n",
       "        text-align: right;\n",
       "    }\n",
       "</style>\n",
       "<table border=\"1\" class=\"dataframe\">\n",
       "  <thead>\n",
       "    <tr style=\"text-align: right;\">\n",
       "      <th></th>\n",
       "      <th>Date</th>\n",
       "      <th>Profit/Losses</th>\n",
       "    </tr>\n",
       "  </thead>\n",
       "  <tbody>\n",
       "    <tr>\n",
       "      <th>44</th>\n",
       "      <td>Sep-2013</td>\n",
       "      <td>-1196225</td>\n",
       "    </tr>\n",
       "  </tbody>\n",
       "</table>\n",
       "</div>"
      ],
      "text/plain": [
       "        Date  Profit/Losses\n",
       "44  Sep-2013       -1196225"
      ]
     },
     "execution_count": 47,
     "metadata": {},
     "output_type": "execute_result"
    }
   ],
   "source": [
    "# The greatest decrease in losses (date and amount) over the entire period.\n",
    "\n",
    "df.loc[df['Profit/Losses']==df['Profit/Losses'].min()]\n"
   ]
  },
  {
   "cell_type": "code",
   "execution_count": 53,
   "id": "4d58d064",
   "metadata": {},
   "outputs": [],
   "source": [
    "\n"
   ]
  },
  {
   "cell_type": "code",
   "execution_count": null,
   "id": "07745393",
   "metadata": {},
   "outputs": [],
   "source": []
  }
 ],
 "metadata": {
  "kernelspec": {
   "display_name": "Python 3",
   "language": "python",
   "name": "python3"
  },
  "language_info": {
   "codemirror_mode": {
    "name": "ipython",
    "version": 3
   },
   "file_extension": ".py",
   "mimetype": "text/x-python",
   "name": "python",
   "nbconvert_exporter": "python",
   "pygments_lexer": "ipython3",
   "version": "3.9.2"
  }
 },
 "nbformat": 4,
 "nbformat_minor": 5
}
